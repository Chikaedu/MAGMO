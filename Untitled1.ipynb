{
 "cells": [
  {
   "cell_type": "code",
   "execution_count": 1,
   "metadata": {},
   "outputs": [],
   "source": [
    "import numpy as np\n",
    "import pandas as pd\n",
    "import matplotlib.pyplot as plt"
   ]
  },
  {
   "cell_type": "code",
   "execution_count": 3,
   "metadata": {},
   "outputs": [
    {
     "data": {
      "text/html": [
       "<div>\n",
       "<style scoped>\n",
       "    .dataframe tbody tr th:only-of-type {\n",
       "        vertical-align: middle;\n",
       "    }\n",
       "\n",
       "    .dataframe tbody tr th {\n",
       "        vertical-align: top;\n",
       "    }\n",
       "\n",
       "    .dataframe thead th {\n",
       "        text-align: right;\n",
       "    }\n",
       "</style>\n",
       "<table border=\"1\" class=\"dataframe\">\n",
       "  <thead>\n",
       "    <tr style=\"text-align: right;\">\n",
       "      <th></th>\n",
       "      <th>GLON</th>\n",
       "      <th>GLAT</th>\n",
       "      <th>OFFSET_METH</th>\n",
       "      <th>B_FIELD</th>\n",
       "      <th>B_ERR</th>\n",
       "      <th>OFF_NORM</th>\n",
       "      <th>B_NORM</th>\n",
       "    </tr>\n",
       "  </thead>\n",
       "  <tbody>\n",
       "    <tr>\n",
       "      <th>0</th>\n",
       "      <td>355.343673</td>\n",
       "      <td>0.147350</td>\n",
       "      <td>2.70</td>\n",
       "      <td>-1.6</td>\n",
       "      <td>0.4</td>\n",
       "      <td>0.99</td>\n",
       "      <td>0.31</td>\n",
       "    </tr>\n",
       "    <tr>\n",
       "      <th>1</th>\n",
       "      <td>355.343632</td>\n",
       "      <td>0.147240</td>\n",
       "      <td>2.74</td>\n",
       "      <td>-4.2</td>\n",
       "      <td>0.1</td>\n",
       "      <td>1.00</td>\n",
       "      <td>0.82</td>\n",
       "    </tr>\n",
       "    <tr>\n",
       "      <th>2</th>\n",
       "      <td>355.343625</td>\n",
       "      <td>0.147240</td>\n",
       "      <td>2.74</td>\n",
       "      <td>-4.6</td>\n",
       "      <td>0.1</td>\n",
       "      <td>1.00</td>\n",
       "      <td>0.90</td>\n",
       "    </tr>\n",
       "    <tr>\n",
       "      <th>3</th>\n",
       "      <td>355.343592</td>\n",
       "      <td>0.147230</td>\n",
       "      <td>2.65</td>\n",
       "      <td>-5.1</td>\n",
       "      <td>0.1</td>\n",
       "      <td>0.97</td>\n",
       "      <td>1.00</td>\n",
       "    </tr>\n",
       "    <tr>\n",
       "      <th>4</th>\n",
       "      <td>355.343591</td>\n",
       "      <td>0.147230</td>\n",
       "      <td>2.65</td>\n",
       "      <td>-4.9</td>\n",
       "      <td>0.1</td>\n",
       "      <td>0.97</td>\n",
       "      <td>0.96</td>\n",
       "    </tr>\n",
       "    <tr>\n",
       "      <th>...</th>\n",
       "      <td>...</td>\n",
       "      <td>...</td>\n",
       "      <td>...</td>\n",
       "      <td>...</td>\n",
       "      <td>...</td>\n",
       "      <td>...</td>\n",
       "      <td>...</td>\n",
       "    </tr>\n",
       "    <tr>\n",
       "      <th>121</th>\n",
       "      <td>17.637772</td>\n",
       "      <td>0.157914</td>\n",
       "      <td>4.36</td>\n",
       "      <td>-8.1</td>\n",
       "      <td>0.9</td>\n",
       "      <td>1.00</td>\n",
       "      <td>1.00</td>\n",
       "    </tr>\n",
       "    <tr>\n",
       "      <th>122</th>\n",
       "      <td>2.535780</td>\n",
       "      <td>0.198175</td>\n",
       "      <td>0.83</td>\n",
       "      <td>1.2</td>\n",
       "      <td>0.4</td>\n",
       "      <td>1.00</td>\n",
       "      <td>0.19</td>\n",
       "    </tr>\n",
       "    <tr>\n",
       "      <th>123</th>\n",
       "      <td>2.535577</td>\n",
       "      <td>0.198360</td>\n",
       "      <td>0.66</td>\n",
       "      <td>5.5</td>\n",
       "      <td>0.4</td>\n",
       "      <td>0.80</td>\n",
       "      <td>0.87</td>\n",
       "    </tr>\n",
       "    <tr>\n",
       "      <th>124</th>\n",
       "      <td>2.535564</td>\n",
       "      <td>0.198315</td>\n",
       "      <td>0.50</td>\n",
       "      <td>6.3</td>\n",
       "      <td>0.1</td>\n",
       "      <td>0.60</td>\n",
       "      <td>1.00</td>\n",
       "    </tr>\n",
       "    <tr>\n",
       "      <th>125</th>\n",
       "      <td>2.535548</td>\n",
       "      <td>0.198308</td>\n",
       "      <td>0.47</td>\n",
       "      <td>5.9</td>\n",
       "      <td>0.1</td>\n",
       "      <td>0.57</td>\n",
       "      <td>0.94</td>\n",
       "    </tr>\n",
       "  </tbody>\n",
       "</table>\n",
       "<p>126 rows × 7 columns</p>\n",
       "</div>"
      ],
      "text/plain": [
       "           GLON      GLAT  OFFSET_METH  B_FIELD  B_ERR  OFF_NORM  B_NORM\n",
       "0    355.343673  0.147350         2.70     -1.6    0.4      0.99    0.31\n",
       "1    355.343632  0.147240         2.74     -4.2    0.1      1.00    0.82\n",
       "2    355.343625  0.147240         2.74     -4.6    0.1      1.00    0.90\n",
       "3    355.343592  0.147230         2.65     -5.1    0.1      0.97    1.00\n",
       "4    355.343591  0.147230         2.65     -4.9    0.1      0.97    0.96\n",
       "..          ...       ...          ...      ...    ...       ...     ...\n",
       "121   17.637772  0.157914         4.36     -8.1    0.9      1.00    1.00\n",
       "122    2.535780  0.198175         0.83      1.2    0.4      1.00    0.19\n",
       "123    2.535577  0.198360         0.66      5.5    0.4      0.80    0.87\n",
       "124    2.535564  0.198315         0.50      6.3    0.1      0.60    1.00\n",
       "125    2.535548  0.198308         0.47      5.9    0.1      0.57    0.94\n",
       "\n",
       "[126 rows x 7 columns]"
      ]
     },
     "execution_count": 3,
     "metadata": {},
     "output_type": "execute_result"
    }
   ],
   "source": [
    "stren_off_df = pd.read_csv('~/Desktop/lv_data/field_strength_meth_off.csv')\n",
    "stren_off_df = stren_off_df[['GLON', 'GLAT', 'OFFSET_METH', 'B_FIELD', 'B_ERR', 'OFF_NORM', 'B_NORM']]\n",
    "stren_off_df"
   ]
  },
  {
   "cell_type": "code",
   "execution_count": 25,
   "metadata": {},
   "outputs": [
    {
     "data": {
      "image/png": "[encoded data removed]",
      "text/plain": [
       "<Figure size 432x288 with 1 Axes>"
      ]
     },
     "metadata": {
      "needs_background": "light"
     },
     "output_type": "display_data"
    }
   ],
   "source": [
    "plt.hist(np.abs(stren_off_df['B_FIELD']), histtype='step', color='k')\n",
    "plt.xlabel('Absolute magnetic field strength (mG)')\n",
    "plt.savefig('field_strength_histo.pdf', format='pdf')\n",
    "plt.show()"
   ]
  },
  {
   "cell_type": "code",
   "execution_count": 24,
   "metadata": {},
   "outputs": [
    {
     "data": {
      "image/png": "[encoded data removed]",
      "text/plain": [
       "<Figure size 432x288 with 1 Axes>"
      ]
     },
     "metadata": {
      "needs_background": "light"
     },
     "output_type": "display_data"
    }
   ],
   "source": [
    "plt.hist(stren_off_df['OFFSET_METH'], histtype='step', color='k')\n",
    "plt.xlabel('Angular offset from methanol maser (arcsec)')\n",
    "plt.savefig('off_meth_histo.pdf', format='pdf')\n",
    "plt.show()"
   ]
  },
  {
   "cell_type": "code",
   "execution_count": 26,
   "metadata": {},
   "outputs": [
    {
     "data": {
      "image/png": "[encoded data removed]",
      "text/plain": [
       "<Figure size 432x288 with 1 Axes>"
      ]
     },
     "metadata": {
      "needs_background": "light"
     },
     "output_type": "display_data"
    }
   ],
   "source": [
    "plt.plot(stren_off_df['OFF_NORM'], stren_off_df['B_NORM'], 'k.', markersize='10')\n",
    "plt.xlabel('Angular offset from methanol maser (scaled upto 1)')\n",
    "plt.ylabel('Absolute magnetic field strength (scaled upto 1)')\n",
    "plt.savefig('B_field_offset.pdf', format='pdf')\n",
    "plt.show()"
   ]
  },
  {
   "cell_type": "code",
   "execution_count": null,
   "metadata": {},
   "outputs": [],
   "source": []
  }
 ],
 "metadata": {
  "kernelspec": {
   "display_name": "Python 3",
   "language": "python",
   "name": "python3"
  },
  "language_info": {
   "codemirror_mode": {
    "name": "ipython",
    "version": 3
   },
   "file_extension": ".py",
   "mimetype": "text/x-python",
   "name": "python",
   "nbconvert_exporter": "python",
   "pygments_lexer": "ipython3",
   "version": "3.6.9"
  }
 },
 "nbformat": 4,
 "nbformat_minor": 4
}
