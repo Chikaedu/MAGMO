{
 "cells": [
  {
   "cell_type": "code",
   "execution_count": 1,
   "metadata": {},
   "outputs": [],
   "source": [
    "import numpy as np\n",
    "import pandas as pd\n"
   ]
  },
  {
   "cell_type": "code",
   "execution_count": 17,
   "metadata": {},
   "outputs": [],
   "source": [
    "magmo_df = pd.read_csv('~/Downloads/MAGMO_fitted_params_Bfield.csv')\n",
    "magmo_df = magmo_df[['Source Name', 'Trans', 'Vel_RCP', 'Vel_LCP', 'B_field (mG)', 'Reliability']]"
   ]
  },
  {
   "cell_type": "code",
   "execution_count": 26,
   "metadata": {},
   "outputs": [],
   "source": [
    "non_split = magmo_df[magmo_df['Reliability'] == 'N']"
   ]
  },
  {
   "cell_type": "code",
   "execution_count": 28,
   "metadata": {},
   "outputs": [
    {
     "data": {
      "text/html": [
       "<div>\n",
       "<style scoped>\n",
       "    .dataframe tbody tr th:only-of-type {\n",
       "        vertical-align: middle;\n",
       "    }\n",
       "\n",
       "    .dataframe tbody tr th {\n",
       "        vertical-align: top;\n",
       "    }\n",
       "\n",
       "    .dataframe thead th {\n",
       "        text-align: right;\n",
       "    }\n",
       "</style>\n",
       "<table border=\"1\" class=\"dataframe\">\n",
       "  <thead>\n",
       "    <tr style=\"text-align: right;\">\n",
       "      <th></th>\n",
       "      <th>Source Name</th>\n",
       "      <th>Trans</th>\n",
       "      <th>Vel_RCP</th>\n",
       "      <th>Vel_LCP</th>\n",
       "      <th>B_field (mG)</th>\n",
       "      <th>Reliability</th>\n",
       "    </tr>\n",
       "  </thead>\n",
       "  <tbody>\n",
       "    <tr>\n",
       "      <th>11</th>\n",
       "      <td>189.032+0.809</td>\n",
       "      <td>1720</td>\n",
       "      <td>3.56</td>\n",
       "      <td>3.50</td>\n",
       "      <td>0.5</td>\n",
       "      <td>N</td>\n",
       "    </tr>\n",
       "    <tr>\n",
       "      <th>18</th>\n",
       "      <td>196.453-1.677</td>\n",
       "      <td>1665</td>\n",
       "      <td>15.91</td>\n",
       "      <td>15.95</td>\n",
       "      <td>-0.1</td>\n",
       "      <td>N</td>\n",
       "    </tr>\n",
       "    <tr>\n",
       "      <th>20</th>\n",
       "      <td>196.453-1.677</td>\n",
       "      <td>1665</td>\n",
       "      <td>17.80</td>\n",
       "      <td>17.83</td>\n",
       "      <td>-0.1</td>\n",
       "      <td>N</td>\n",
       "    </tr>\n",
       "    <tr>\n",
       "      <th>24</th>\n",
       "      <td>232.620+0.996</td>\n",
       "      <td>1665</td>\n",
       "      <td>21.74</td>\n",
       "      <td>21.78</td>\n",
       "      <td>-0.1</td>\n",
       "      <td>N</td>\n",
       "    </tr>\n",
       "    <tr>\n",
       "      <th>31</th>\n",
       "      <td>263.250+0.514</td>\n",
       "      <td>1667</td>\n",
       "      <td>10.96</td>\n",
       "      <td>10.99</td>\n",
       "      <td>-0.1</td>\n",
       "      <td>N</td>\n",
       "    </tr>\n",
       "    <tr>\n",
       "      <th>...</th>\n",
       "      <td>...</td>\n",
       "      <td>...</td>\n",
       "      <td>...</td>\n",
       "      <td>...</td>\n",
       "      <td>...</td>\n",
       "      <td>...</td>\n",
       "    </tr>\n",
       "    <tr>\n",
       "      <th>4623</th>\n",
       "      <td>019.487+0.151</td>\n",
       "      <td>1612</td>\n",
       "      <td>22.33</td>\n",
       "      <td>22.23</td>\n",
       "      <td>0.8</td>\n",
       "      <td>N</td>\n",
       "    </tr>\n",
       "    <tr>\n",
       "      <th>4629</th>\n",
       "      <td>019.487+0.151</td>\n",
       "      <td>1612</td>\n",
       "      <td>25.01</td>\n",
       "      <td>24.97</td>\n",
       "      <td>0.3</td>\n",
       "      <td>N</td>\n",
       "    </tr>\n",
       "    <tr>\n",
       "      <th>4673</th>\n",
       "      <td>019.610-0.234</td>\n",
       "      <td>1720</td>\n",
       "      <td>43.67</td>\n",
       "      <td>43.66</td>\n",
       "      <td>0.1</td>\n",
       "      <td>N</td>\n",
       "    </tr>\n",
       "    <tr>\n",
       "      <th>4679</th>\n",
       "      <td>019.613-0.134</td>\n",
       "      <td>1665</td>\n",
       "      <td>54.62</td>\n",
       "      <td>54.57</td>\n",
       "      <td>0.1</td>\n",
       "      <td>N</td>\n",
       "    </tr>\n",
       "    <tr>\n",
       "      <th>4680</th>\n",
       "      <td>019.613-0.134</td>\n",
       "      <td>1665</td>\n",
       "      <td>55.00</td>\n",
       "      <td>55.08</td>\n",
       "      <td>-0.1</td>\n",
       "      <td>N</td>\n",
       "    </tr>\n",
       "  </tbody>\n",
       "</table>\n",
       "<p>636 rows × 6 columns</p>\n",
       "</div>"
      ],
      "text/plain": [
       "        Source Name  Trans Vel_RCP Vel_LCP B_field (mG) Reliability\n",
       "11    189.032+0.809   1720    3.56    3.50          0.5           N\n",
       "18    196.453-1.677   1665   15.91   15.95         -0.1           N\n",
       "20    196.453-1.677   1665   17.80   17.83         -0.1           N\n",
       "24    232.620+0.996   1665   21.74   21.78         -0.1           N\n",
       "31    263.250+0.514   1667   10.96   10.99         -0.1           N\n",
       "...             ...    ...     ...     ...          ...         ...\n",
       "4623  019.487+0.151   1612   22.33   22.23          0.8           N\n",
       "4629  019.487+0.151   1612   25.01   24.97          0.3           N\n",
       "4673  019.610-0.234   1720   43.67   43.66          0.1           N\n",
       "4679  019.613-0.134   1665   54.62   54.57          0.1           N\n",
       "4680  019.613-0.134   1665   55.00   55.08         -0.1           N\n",
       "\n",
       "[636 rows x 6 columns]"
      ]
     },
     "execution_count": 28,
     "metadata": {},
     "output_type": "execute_result"
    }
   ],
   "source": [
    "non_split"
   ]
  },
  {
   "cell_type": "code",
   "execution_count": 29,
   "metadata": {},
   "outputs": [],
   "source": [
    "dots = non_split[non_split['B_field (mG)'] == '..']"
   ]
  },
  {
   "cell_type": "code",
   "execution_count": 30,
   "metadata": {},
   "outputs": [
    {
     "data": {
      "text/html": [
       "<div>\n",
       "<style scoped>\n",
       "    .dataframe tbody tr th:only-of-type {\n",
       "        vertical-align: middle;\n",
       "    }\n",
       "\n",
       "    .dataframe tbody tr th {\n",
       "        vertical-align: top;\n",
       "    }\n",
       "\n",
       "    .dataframe thead th {\n",
       "        text-align: right;\n",
       "    }\n",
       "</style>\n",
       "<table border=\"1\" class=\"dataframe\">\n",
       "  <thead>\n",
       "    <tr style=\"text-align: right;\">\n",
       "      <th></th>\n",
       "      <th>Source Name</th>\n",
       "      <th>Trans</th>\n",
       "      <th>Vel_RCP</th>\n",
       "      <th>Vel_LCP</th>\n",
       "      <th>B_field (mG)</th>\n",
       "      <th>Reliability</th>\n",
       "    </tr>\n",
       "  </thead>\n",
       "  <tbody>\n",
       "  </tbody>\n",
       "</table>\n",
       "</div>"
      ],
      "text/plain": [
       "Empty DataFrame\n",
       "Columns: [Source Name, Trans, Vel_RCP, Vel_LCP, B_field (mG), Reliability]\n",
       "Index: []"
      ]
     },
     "execution_count": 30,
     "metadata": {},
     "output_type": "execute_result"
    }
   ],
   "source": [
    "dots"
   ]
  },
  {
   "cell_type": "code",
   "execution_count": null,
   "metadata": {},
   "outputs": [],
   "source": []
  }
 ],
 "metadata": {
  "kernelspec": {
   "display_name": "Python 3",
   "language": "python",
   "name": "python3"
  },
  "language_info": {
   "codemirror_mode": {
    "name": "ipython",
    "version": 3
   },
   "file_extension": ".py",
   "mimetype": "text/x-python",
   "name": "python",
   "nbconvert_exporter": "python",
   "pygments_lexer": "ipython3",
   "version": "3.6.9"
  }
 },
 "nbformat": 4,
 "nbformat_minor": 2
}
